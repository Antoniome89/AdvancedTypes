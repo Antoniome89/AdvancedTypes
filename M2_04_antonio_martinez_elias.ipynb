{
 "cells": [
  {
   "cell_type": "markdown",
   "metadata": {},
   "source": [
    "# Ejercicios Modulo 2. Tipos avanzados\n",
    "\n",
    "Consideraciones a tener en cuenta: \n",
    "\n",
    "* Guardar este documento con el siguiente formato para su entrega: __M2_04_nombre_apellido1_apellido2__\n",
    "* Realizar los ejercicios con las herramientas vistas en las sesiones. Aún no hemos llegado a condicionales ni bucles\n",
    "* Comentar el código\n",
    "* Utilizar nombres de variables apropiados, si vais a guardar una nota, llamar a esa variable nota, no n o x"
   ]
  },
  {
   "cell_type": "markdown",
   "metadata": {},
   "source": [
    "## Ejercicios de tipos avanzados"
   ]
  },
  {
   "cell_type": "markdown",
   "metadata": {},
   "source": [
    "**1) Trabajemos con listas y tuplas**\n",
    "* Crea una lista y una tupla que contenga strings (al menos 3 elementos). Tematica libre, sobre lo que quieras, vehiculos, comida, música, etc.\n",
    "* Muestra la lista y la tupla\n",
    "* Muestra el 2º elemento de la lista y el penúltimo de la tupla\n",
    "* Modifica (si se puede) algún elemento de la lista y de la tupla. Y mostrar el resultado\n",
    "* Muestra el tamaño de la lista y de la tupla\n",
    "* Realiza una búsqueda de un elemento dentro de la lista y de la tupla. Mostrar si devuelve True o False\n",
    "* Añade (si se puede) algún elemento a la lista y a la tupla. Mostrar de nuevo la lista y la tupla para verificar si se ha realizado correctamente la acción.\n",
    "* Borra o elimina (si se puede) el contenido de la lista y de la tupla. Mosstrar de nuevo la lista y la tupla para verificar si se ha realizado correctamente la acción\n",
    "\n"
   ]
  },
  {
   "cell_type": "code",
   "execution_count": 41,
   "metadata": {},
   "outputs": [
    {
     "name": "stdout",
     "output_type": "stream",
     "text": [
      "('Deadpool', 'Catwoman', 'Flash', '1', '2', '3')\n"
     ]
    }
   ],
   "source": [
    "#Creamos una lista con tres elementos\n",
    "heroesLista = [\"Batman\", \"Spiderman\", \"Superman\"]\n",
    "\n",
    "#Creamos una tupla con tres elementos\n",
    "heroesTupla = (\"Deadpool\",\"Catwoman\",\"Flash\")\n"
   ]
  },
  {
   "cell_type": "code",
   "execution_count": 2,
   "metadata": {},
   "outputs": [
    {
     "name": "stdout",
     "output_type": "stream",
     "text": [
      "['Batman', 'Spiderman', 'Superman']\n"
     ]
    }
   ],
   "source": [
    "#Mostramos la lista\n",
    "print (heroesLista)"
   ]
  },
  {
   "cell_type": "code",
   "execution_count": 3,
   "metadata": {},
   "outputs": [
    {
     "name": "stdout",
     "output_type": "stream",
     "text": [
      "('Deadpool', 'Catwoman', 'Flash')\n"
     ]
    }
   ],
   "source": [
    "#Mostramos la tupla\n",
    "print (heroesTupla)"
   ]
  },
  {
   "cell_type": "code",
   "execution_count": 4,
   "metadata": {},
   "outputs": [
    {
     "name": "stdout",
     "output_type": "stream",
     "text": [
      "Spiderman\n"
     ]
    }
   ],
   "source": [
    "#Mostramos segundo elemento de la lista\n",
    "print (heroesLista [1])"
   ]
  },
  {
   "cell_type": "code",
   "execution_count": 5,
   "metadata": {},
   "outputs": [
    {
     "name": "stdout",
     "output_type": "stream",
     "text": [
      "Catwoman\n"
     ]
    }
   ],
   "source": [
    "#Mostramos el penúltimo elemento de la tupla\n",
    "print (heroesTupla [-2])"
   ]
  },
  {
   "cell_type": "code",
   "execution_count": 6,
   "metadata": {},
   "outputs": [
    {
     "name": "stdout",
     "output_type": "stream",
     "text": [
      "['Batman', 'Spiderman', 'X-Men']\n"
     ]
    }
   ],
   "source": [
    "#Modificamos un elemento de la lista\n",
    "heroesLista [-1] = \"X-Men\"\n",
    "print (heroesLista)"
   ]
  },
  {
   "cell_type": "code",
   "execution_count": 8,
   "metadata": {},
   "outputs": [
    {
     "ename": "TypeError",
     "evalue": "'tuple' object does not support item assignment",
     "output_type": "error",
     "traceback": [
      "\u001b[1;31m---------------------------------------------------------------------------\u001b[0m",
      "\u001b[1;31mTypeError\u001b[0m                                 Traceback (most recent call last)",
      "Cell \u001b[1;32mIn[8], line 2\u001b[0m\n\u001b[0;32m      1\u001b[0m \u001b[38;5;66;03m#Intentamos modificar un elemento de la tupla (inmutable)\u001b[39;00m\n\u001b[1;32m----> 2\u001b[0m heroesTupla [\u001b[38;5;241m0\u001b[39m] \u001b[38;5;241m=\u001b[39m \u001b[38;5;124m\"\u001b[39m\u001b[38;5;124mWonder woman\u001b[39m\u001b[38;5;124m\"\u001b[39m\n",
      "\u001b[1;31mTypeError\u001b[0m: 'tuple' object does not support item assignment"
     ]
    }
   ],
   "source": [
    "#Intentamos modificar un elemento de la tupla (inmutable)\n",
    "heroesTupla [0] = \"Wonder woman\""
   ]
  },
  {
   "cell_type": "code",
   "execution_count": 9,
   "metadata": {
    "scrolled": true
   },
   "outputs": [
    {
     "name": "stdout",
     "output_type": "stream",
     "text": [
      "3\n"
     ]
    }
   ],
   "source": [
    "#Muestra el tamaño de la lista\n",
    "print(len(heroesLista))"
   ]
  },
  {
   "cell_type": "code",
   "execution_count": 10,
   "metadata": {
    "scrolled": true
   },
   "outputs": [
    {
     "name": "stdout",
     "output_type": "stream",
     "text": [
      "3\n"
     ]
    }
   ],
   "source": [
    "#Muestra el tamaño de la tupla\n",
    "print (len(heroesTupla))"
   ]
  },
  {
   "cell_type": "code",
   "execution_count": 11,
   "metadata": {},
   "outputs": [
    {
     "name": "stdout",
     "output_type": "stream",
     "text": [
      "False\n"
     ]
    }
   ],
   "source": [
    "#Buscamos un valor dentro de la lista\n",
    "print (\"Superman\" in heroesLista)\n"
   ]
  },
  {
   "cell_type": "code",
   "execution_count": 12,
   "metadata": {},
   "outputs": [
    {
     "name": "stdout",
     "output_type": "stream",
     "text": [
      "True\n"
     ]
    }
   ],
   "source": [
    "#Buscamos un valor dentro de la tupla\n",
    "print (\"Catwoman\" in heroesTupla)"
   ]
  },
  {
   "cell_type": "code",
   "execution_count": 13,
   "metadata": {},
   "outputs": [
    {
     "name": "stdout",
     "output_type": "stream",
     "text": [
      "['Batman', 'Spiderman', 'X-Men', 'Iron Man']\n"
     ]
    }
   ],
   "source": [
    "#Añadimos un elemento a la lista\n",
    "heroesLista.append(\"Iron Man\")\n",
    "print (heroesLista)"
   ]
  },
  {
   "cell_type": "code",
   "execution_count": 14,
   "metadata": {},
   "outputs": [
    {
     "ename": "AttributeError",
     "evalue": "'tuple' object has no attribute 'append'",
     "output_type": "error",
     "traceback": [
      "\u001b[1;31m---------------------------------------------------------------------------\u001b[0m",
      "\u001b[1;31mAttributeError\u001b[0m                            Traceback (most recent call last)",
      "Cell \u001b[1;32mIn[14], line 2\u001b[0m\n\u001b[0;32m      1\u001b[0m \u001b[38;5;66;03m#Intentamos añadir un elemento a la tupla (inmutable)\u001b[39;00m\n\u001b[1;32m----> 2\u001b[0m \u001b[43mheroesTupla\u001b[49m\u001b[38;5;241;43m.\u001b[39;49m\u001b[43mappend\u001b[49m(\u001b[38;5;124m\"\u001b[39m\u001b[38;5;124mHulk\u001b[39m\u001b[38;5;124m\"\u001b[39m)\n",
      "\u001b[1;31mAttributeError\u001b[0m: 'tuple' object has no attribute 'append'"
     ]
    }
   ],
   "source": [
    "#Intentamos añadir un elemento a la tupla (inmutable)\n",
    "heroesTupla.append(\"Hulk\")"
   ]
  },
  {
   "cell_type": "code",
   "execution_count": 15,
   "metadata": {},
   "outputs": [
    {
     "name": "stdout",
     "output_type": "stream",
     "text": [
      "[]\n"
     ]
    }
   ],
   "source": [
    "#Borramos todos los elementos de la lista\n",
    "heroesLista.clear()\n",
    "print(heroesLista)"
   ]
  },
  {
   "cell_type": "code",
   "execution_count": 16,
   "metadata": {},
   "outputs": [
    {
     "ename": "AttributeError",
     "evalue": "'tuple' object has no attribute 'clear'",
     "output_type": "error",
     "traceback": [
      "\u001b[1;31m---------------------------------------------------------------------------\u001b[0m",
      "\u001b[1;31mAttributeError\u001b[0m                            Traceback (most recent call last)",
      "Cell \u001b[1;32mIn[16], line 2\u001b[0m\n\u001b[0;32m      1\u001b[0m \u001b[38;5;66;03m#Intentamos borrar los elementos de la tupla (Inmutable)\u001b[39;00m\n\u001b[1;32m----> 2\u001b[0m \u001b[43mheroesTupla\u001b[49m\u001b[38;5;241;43m.\u001b[39;49m\u001b[43mclear\u001b[49m()\n\u001b[0;32m      3\u001b[0m \u001b[38;5;28mprint\u001b[39m(heroesTupla)\n",
      "\u001b[1;31mAttributeError\u001b[0m: 'tuple' object has no attribute 'clear'"
     ]
    }
   ],
   "source": [
    "#Intentamos borrar los elementos de la tupla (Inmutable)\n",
    "heroesTupla.clear()\n",
    "print(heroesTupla)"
   ]
  },
  {
   "cell_type": "markdown",
   "metadata": {},
   "source": [
    "**2) Trabajemos con sets y diccionarios**\n",
    "* Crea una set y un diccionario que contengan strings (al menos 3 elementos en el caso del set y 3 conjuntos de clave:valor en el caso del diccionario). Tematica libre, sobre lo que quieras, vehiculos, comida, música, etc.\n",
    "* Muestra el set y el diccionario\n",
    "* Muestra (si se puede) el 2º elemento del set y el valor del primer clave-valor del diccionario\n",
    "* Modifica (si se puede) algún elemento del set o del diccionario. Y mostrar el resultado\n",
    "* Muestra el tamaño del set y del diccionario\n",
    "* Realiza una búsqueda de un elemento dentro del set y dentro del diccionario. Mostrar si devuelve True o False\n",
    "* Añade (si se puede) algún elemento al set y algun clave-valor al diccionario. Mostrar de nuevo el set y el diccionario para verificar si se ha realizado correctamente la acción.\n",
    "* Borra o elimina (si se puede) el contenido del set y del diccionario. Mosstrar de nuevo el set y el diccionario para verificar si se ha realizado correctamente la acción\n",
    "\n"
   ]
  },
  {
   "cell_type": "code",
   "execution_count": 17,
   "metadata": {},
   "outputs": [],
   "source": [
    "#Creamos un set\n",
    "videojuegosSet = {\"Starcraft\", \"Super Mario\", \"Bioshock\"}"
   ]
  },
  {
   "cell_type": "code",
   "execution_count": 18,
   "metadata": {},
   "outputs": [],
   "source": [
    "#Creamos un diccionario\n",
    "videojuegosDict = {\"Zelda\" : \"Aventuras\", \"Portal\" : \"Puzzles\", \"Mass Efect\": \"Shooter\"}"
   ]
  },
  {
   "cell_type": "code",
   "execution_count": 19,
   "metadata": {
    "scrolled": true
   },
   "outputs": [
    {
     "name": "stdout",
     "output_type": "stream",
     "text": [
      "{'Bioshock', 'Super Mario', 'Starcraft'}\n"
     ]
    }
   ],
   "source": [
    "#Mostramos el set\n",
    "print (videojuegosSet)"
   ]
  },
  {
   "cell_type": "code",
   "execution_count": 20,
   "metadata": {},
   "outputs": [
    {
     "name": "stdout",
     "output_type": "stream",
     "text": [
      "{'Zelda': 'Aventuras', 'Portal': 'Puzzles', 'Mass Efect': 'Shooter'}\n"
     ]
    }
   ],
   "source": [
    "#Mostramos el diccionario\n",
    "print (videojuegosDict)"
   ]
  },
  {
   "cell_type": "code",
   "execution_count": 21,
   "metadata": {
    "scrolled": true
   },
   "outputs": [
    {
     "ename": "TypeError",
     "evalue": "'set' object is not subscriptable",
     "output_type": "error",
     "traceback": [
      "\u001b[1;31m---------------------------------------------------------------------------\u001b[0m",
      "\u001b[1;31mTypeError\u001b[0m                                 Traceback (most recent call last)",
      "Cell \u001b[1;32mIn[21], line 2\u001b[0m\n\u001b[0;32m      1\u001b[0m \u001b[38;5;66;03m#Intentamos mostrar el segundo elemento del set (colección desordenada y no indexada).\u001b[39;00m\n\u001b[1;32m----> 2\u001b[0m \u001b[38;5;28mprint\u001b[39m (\u001b[43mvideojuegosSet\u001b[49m\u001b[43m[\u001b[49m\u001b[38;5;241;43m1\u001b[39;49m\u001b[43m]\u001b[49m)\n",
      "\u001b[1;31mTypeError\u001b[0m: 'set' object is not subscriptable"
     ]
    }
   ],
   "source": [
    "#Intentamos mostrar el segundo elemento del set (colección desordenada y no indexada).\n",
    "print (videojuegosSet[1])"
   ]
  },
  {
   "cell_type": "code",
   "execution_count": 22,
   "metadata": {},
   "outputs": [
    {
     "name": "stdout",
     "output_type": "stream",
     "text": [
      "True\n"
     ]
    }
   ],
   "source": [
    "#No obstante, podemos comprobar si cierto elemento está dentro del set:\n",
    "print (\"Bioshock\" in videojuegosSet)"
   ]
  },
  {
   "cell_type": "code",
   "execution_count": 25,
   "metadata": {},
   "outputs": [
    {
     "name": "stdout",
     "output_type": "stream",
     "text": [
      "Aventuras\n"
     ]
    }
   ],
   "source": [
    "#Mostramos el valor del primer elemento del diccionario\n",
    "print (videojuegosDict [\"Zelda\"])"
   ]
  },
  {
   "cell_type": "code",
   "execution_count": 26,
   "metadata": {},
   "outputs": [
    {
     "name": "stdout",
     "output_type": "stream",
     "text": [
      "{'Bioshock', 'Kirby', 'Starcraft'}\n"
     ]
    }
   ],
   "source": [
    "#Modifica algún elemento del set: Al  no ser indexado, debemos buscar el valor exacto, borrarlo y añadir el que queremos.\n",
    "videojuegosSet.discard(\"Super Mario\")\n",
    "videojuegosSet.add(\"Kirby\")\n",
    "print(videojuegosSet)\n"
   ]
  },
  {
   "cell_type": "code",
   "execution_count": 27,
   "metadata": {
    "scrolled": true
   },
   "outputs": [
    {
     "name": "stdout",
     "output_type": "stream",
     "text": [
      "{'Zelda': 'Aventuras', 'Portal': 'Plataformas', 'Mass Efect': 'Shooter'}\n"
     ]
    }
   ],
   "source": [
    "#Modifica algún elemento del diccionario\n",
    "videojuegosDict [\"Portal\"] = \"Plataformas\"\n",
    "print (videojuegosDict)"
   ]
  },
  {
   "cell_type": "code",
   "execution_count": 28,
   "metadata": {},
   "outputs": [
    {
     "name": "stdout",
     "output_type": "stream",
     "text": [
      "3\n",
      "3\n"
     ]
    }
   ],
   "source": [
    "#Muestra el tamaño del set y del diccionario\n",
    "print(len(videojuegosSet))\n",
    "print(len(videojuegosDict))\n"
   ]
  },
  {
   "cell_type": "code",
   "execution_count": 42,
   "metadata": {},
   "outputs": [
    {
     "name": "stdout",
     "output_type": "stream",
     "text": [
      "False\n",
      "False\n"
     ]
    }
   ],
   "source": [
    "#Realiza una búsqueda de un elemento dentro del set y dentro del diccionario. Mostrar si devuelve True o False\n",
    "print (\"Call of Duty\" in videojuegosSet)\n",
    "print (\"Zelda\" in videojuegosDict)\n"
   ]
  },
  {
   "cell_type": "code",
   "execution_count": 30,
   "metadata": {},
   "outputs": [
    {
     "name": "stdout",
     "output_type": "stream",
     "text": [
      "{'Sonic', 'Bioshock', 'Kirby', 'Starcraft'}\n"
     ]
    }
   ],
   "source": [
    "\"\"\"Añade (si se puede) algún elemento al set.\n",
    "Mostrar de nuevo el set para verificar si se ha realizado correctamente la acción.\"\"\"\n",
    "videojuegosSet.add(\"Sonic\")\n",
    "print (videojuegosSet)\n"
   ]
  },
  {
   "cell_type": "code",
   "execution_count": 31,
   "metadata": {},
   "outputs": [
    {
     "name": "stdout",
     "output_type": "stream",
     "text": [
      "{'Zelda': 'Aventuras', 'Portal': 'Plataformas', 'Mass Efect': 'Shooter', 'Space Invaders': 'Arcade'}\n"
     ]
    }
   ],
   "source": [
    "\"\"\"Añade (si se puede) algún elemento al dict.\n",
    "Mostrar de nuevo el dict para verificar si se ha realizado correctamente la acción.\"\"\"\n",
    "videojuegosDict [\"Space Invaders\"] = \"Arcade\"\n",
    "print (videojuegosDict)\n"
   ]
  },
  {
   "cell_type": "code",
   "execution_count": 32,
   "metadata": {},
   "outputs": [
    {
     "name": "stdout",
     "output_type": "stream",
     "text": [
      "set()\n",
      "{}\n"
     ]
    }
   ],
   "source": [
    "\"\"\"Borra o elimina (si se puede) el contenido del set y del diccionario. \n",
    "Mostrar de nuevo el set y el diccionario para verificar si se ha realizado correctamente la acción.\"\"\"\n",
    "#Borramos todos elementos del conjunto y diccionario\n",
    "videojuegosSet.clear()\n",
    "videojuegosDict.clear()\n",
    "\n",
    "#Volvemos a mostrar el conjunto y el diccionario\n",
    "print(videojuegosSet)\n",
    "print(videojuegosDict)"
   ]
  },
  {
   "cell_type": "markdown",
   "metadata": {},
   "source": [
    "**3) Realizar un programa que pida al usuario 3 números que pueden ser flotantes (no es necesario realizar bucles aún, podemos repetir el código), estos números se deberán introducir en una lista. Cuando se haya finalizado la introducción de los datos, se mostrará el sumatorio de toda la lista. Guardar el sumatorio en una variable que se llame \"sumatorio\"**\n",
    "\n",
    "*Ayuda: Existe una función llamada sum(lista) ¡Pruébalo!*"
   ]
  },
  {
   "cell_type": "code",
   "execution_count": 34,
   "metadata": {},
   "outputs": [
    {
     "name": "stdout",
     "output_type": "stream",
     "text": [
      "Introduce un número: \n",
      "5\n",
      "Introduce un número: \n",
      "8\n",
      "Introduce un número: \n",
      "9\n",
      "La suma de todos los números es: 22.0\n"
     ]
    }
   ],
   "source": [
    "#Pedimos al usuario que introduzca un primer número flotante:\n",
    "print (\"Introduce un número: \")\n",
    "num1 = float (input())\n",
    "\n",
    "#Pedimos al usuario que introduzca un segundo número flotante:\n",
    "print (\"Introduce un número: \")\n",
    "num2 = float (input())\n",
    "\n",
    "#Pedimos al usuario que introduzca un tercer número flotante:\n",
    "print (\"Introduce un número: \")\n",
    "num3 = float (input())\n",
    "\n",
    "#Guardamos los tres números en una lista:\n",
    "numeros = [num1,num2,num3]\n",
    "sumaNumeros = sum(numeros)\n",
    "print (\"La suma de todos los números es:\",sumaNumeros)\n",
    "\n"
   ]
  },
  {
   "cell_type": "markdown",
   "metadata": {},
   "source": [
    "#### **4) Sobre el ejercicio anterior, queremos mostrar la media aritmética de los elementos de esa lista. Indicar la instrucción necesaria para obtenerla.**\n",
    "\n",
    "*En este caso sabemos que el número de elementos que ha introducido el usuario es 3, pero en otra ocasión podría ser diferente, por lo tanto, no hagáis referencia al número 3 en ningún sitio*"
   ]
  },
  {
   "cell_type": "code",
   "execution_count": 35,
   "metadata": {},
   "outputs": [
    {
     "name": "stdout",
     "output_type": "stream",
     "text": [
      "La media aritmética de los números introducidos es: 7.333333333333333\n"
     ]
    }
   ],
   "source": [
    "#Para hacer la media necesitamos saber cuántos elementos tiene la lista\n",
    "elementosLista = len(numeros)\n",
    "\n",
    "#Sumamos los números y los dividimos entre la variable que acabamos de crear\n",
    "sumaNumeros = sum(numeros)\n",
    "media = sumaNumeros / elementosLista\n",
    "print (\"La media aritmética de los números introducidos es:\",media)\n"
   ]
  },
  {
   "cell_type": "markdown",
   "metadata": {},
   "source": [
    "**5) Dada la siguiente matriz de notas (una matriz es una lista de listas anidadas) se observa que cada fila es un listado de notas de un alumno, donde en la última posición de cada lista se encuentra el sumatorio de todas las notas anteriores de esa lista. Pero apreciamos que hay varios errores en los sumatorios de varios alumnos, utilizar la técnica de slicing para acceder a estas posiciones y modificar los valores erroneos de la forma más automatizada posible.**\n",
    "\n",
    "* No vale poner directamente los valores:\n",
    "```python\n",
    "notas[1][3] = 60\n",
    "notas[3][3] = 120\n",
    "```\n",
    "* Hay que buscar una forma automatizada de acceder y modificar esos valores"
   ]
  },
  {
   "cell_type": "code",
   "execution_count": 36,
   "metadata": {},
   "outputs": [
    {
     "name": "stdout",
     "output_type": "stream",
     "text": [
      "[[10, 10, 10, 30], [20, 20, 20, 60], [30, 30, 30, 90], [40, 40, 40, 120]]\n"
     ]
    }
   ],
   "source": [
    "notas = [ \n",
    "    [10, 10, 10, 30],\n",
    "    [20, 20, 20, 70],\n",
    "    [30, 30, 30, 90],\n",
    "    [40, 40, 40, 130]\n",
    "]\n",
    "\n",
    "#Para evitar errores en la suma de las notas, podemos hacerla de forma automática aplicando slicing:\n",
    "suma0 = sum(notas[0][:3])\n",
    "suma1 = sum(notas[1][:3])\n",
    "suma2 = sum(notas[2][:3])\n",
    "suma3 = sum(notas[3][:3])\n",
    "\n",
    "#Asignamos las variables que hemos creado a la cuarta columna de la matriz:\n",
    "notas [0][3] = suma0\n",
    "notas [1][3] = suma1\n",
    "notas [2][3] = suma2\n",
    "notas [3][3] = suma3\n",
    "\n",
    "#Mostramos el resultado por pantalla:\n",
    "print(notas)\n"
   ]
  },
  {
   "cell_type": "markdown",
   "metadata": {},
   "source": [
    "**6) Supongamos que obtenemos una cadena de texto corrupta, esta al revés. Esta cadena contiene el nombre y el año de nacimiento de una persona. Formatear dicha cadena para obtener el siguiente formato:**\n",
    "\n",
    "* Empleado ***Nombre*** ***Apellido*** nacido en el año ***Año***\n",
    "\n",
    "*Pista: Para invertir el orden una cadena usando técnicas de slicing se puede utilizar un tercer índice -1: cadena[::-1]*\n"
   ]
  },
  {
   "cell_type": "code",
   "execution_count": 37,
   "metadata": {},
   "outputs": [
    {
     "name": "stdout",
     "output_type": "stream",
     "text": [
      "Empleado Carlos Perez nacido en el año 1985\n"
     ]
    }
   ],
   "source": [
    "cadena = \"zereP solraC,5891\"\n",
    "#Aplicamos slicing para invertir el orden de la cadena:\n",
    "cadena = cadena[::-1]\n",
    "\n",
    "#Mostramos el resultado con el formato que queremos:\n",
    "print (\"Empleado\", cadena[5:],\"nacido en el año\",cadena[:4])\n"
   ]
  },
  {
   "cell_type": "markdown",
   "metadata": {},
   "source": [
    "**7) Practiquemos con conjuntos:**\n",
    "* Crea un conjunto llamado mamíferos que tenga los elementos Gato, León, Caballo, Ballena y Tortuga\n",
    "* Crea un conjunto llamado peces que tenga los elementos Ballena y Sardina\n",
    "* Borra la Tortuga del conjunto mamiíferos\n",
    "* Añade el Pez Payaso al conjunto peces\n",
    "* Imprime los conjuntos por pantalla\n",
    "* Imprime por pantalla los elementos que se encuentren en ambos conjuntos, es decir, que sean mamíferos y peces"
   ]
  },
  {
   "cell_type": "code",
   "execution_count": 38,
   "metadata": {},
   "outputs": [
    {
     "name": "stdout",
     "output_type": "stream",
     "text": [
      "{'Gato', 'León', 'Caballo', 'Ballena'}\n",
      "{'Pez Payaso', 'Ballena', 'Sardina'}\n",
      "Intersección de ambos conjuntos: {'Ballena'}\n"
     ]
    }
   ],
   "source": [
    "#Creamos el primer conjunto\n",
    "mamiferos = {\"Gato\", \"León\", \"Caballo\", \"Ballena\", \"Tortuga\"}\n",
    "\n",
    "#Creamos el segundo conjunto\n",
    "peces = {\"Ballena\", \"Sardina\"}\n",
    "\n",
    "#Borramos un elemento del primer conjunto\n",
    "mamiferos.remove(\"Tortuga\")\n",
    "print (mamiferos)\n",
    "\n",
    "#Añadimos un elemento al segundo conjunto\n",
    "peces.add(\"Pez Payaso\")\n",
    "print (peces)\n",
    "\n",
    "#Mostramos los elementos comunes a los dos conjuntos\n",
    "print(\"Intersección de ambos conjuntos:\",mamiferos & peces)\n"
   ]
  },
  {
   "cell_type": "markdown",
   "metadata": {},
   "source": [
    "**8) Practiquemos con diccionarios. Tenemos un diccionario que contiene una serie de productos. Realicemos las tres siguientes tareas:**\n",
    "* Ver productos\n",
    "* Subir el precio a todos los productos\n",
    "* Volver a ver todos los precios (para comprobar que el precio ha subido)\n",
    "\n",
    "Al inicio del programa, se mostrarán todos los productos, tienen que aparecer ordenados con el siguiente formato: <br><code>1 - Arduino - 30€</code><br>\n",
    "Posteriormente, a todos los productos se aplicará una subida del 50% a todos los precios de productos.<br>\n",
    "Y finalmente volveremos a mostrar todos los productos para comprobar la subida de precios."
   ]
  },
  {
   "cell_type": "code",
   "execution_count": 39,
   "metadata": {},
   "outputs": [
    {
     "name": "stdout",
     "output_type": "stream",
     "text": [
      "1 - Arduino - 30\n",
      "2 - RPi - 70\n",
      "3 - Print 3D - 300\n",
      "[31.5, 73.5, 315.0]\n"
     ]
    }
   ],
   "source": [
    "productos = { 'id':[1,2,3], \n",
    "             'nombre':['Arduino', 'RPi', 'Print 3D'], \n",
    "             'precio': [30, 70, 300] \n",
    "            }\n",
    "\n",
    "#Mostramos los elementos con el formato que queremos:\n",
    "print (productos[\"id\"][0], productos[\"nombre\"][0],productos[\"precio\"][0], sep = \" - \")\n",
    "print (productos[\"id\"][1], productos[\"nombre\"][1],productos[\"precio\"][1], sep = \" - \")\n",
    "print (productos[\"id\"][2], productos[\"nombre\"][2],productos[\"precio\"][2], sep = \" - \")\n",
    "\n",
    "#Aumentamos un 5% los precios\n",
    "productos [\"precio\"][0] *= 1.05\n",
    "productos [\"precio\"][1] *= 1.05\n",
    "productos [\"precio\"][2] *= 1.05\n",
    "\n",
    "#Mostramos los precios tras la subida\n",
    "print (productos [\"precio\"][:])\n",
    "\n",
    "\n"
   ]
  },
  {
   "cell_type": "code",
   "execution_count": null,
   "metadata": {},
   "outputs": [],
   "source": []
  }
 ],
 "metadata": {
  "anaconda-cloud": {},
  "kernelspec": {
   "display_name": "Python 3 (ipykernel)",
   "language": "python",
   "name": "python3"
  },
  "language_info": {
   "codemirror_mode": {
    "name": "ipython",
    "version": 3
   },
   "file_extension": ".py",
   "mimetype": "text/x-python",
   "name": "python",
   "nbconvert_exporter": "python",
   "pygments_lexer": "ipython3",
   "version": "3.10.9"
  }
 },
 "nbformat": 4,
 "nbformat_minor": 1
}
